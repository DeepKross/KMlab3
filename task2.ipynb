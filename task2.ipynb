{
 "cells": [
  {
   "cell_type": "code",
   "execution_count": 2,
   "outputs": [
    {
     "name": "stdout",
     "output_type": "stream",
     "text": [
      "x = 1.0, y = 2.0, y' = 1.0\n",
      "x = 1.1, y = 2.0904289321881344, y' = 0.8068217893672365\n",
      "x = 1.2, y = 2.1613819532690144, y' = 0.6108502160504945\n",
      "x = 1.3, y = 2.2126161552713444, y' = 0.41279872284385577\n",
      "x = 1.4, y = 2.243958594942134, y' = 0.21335789537647531\n",
      "x = 1.5, y = 2.255304460256296, y' = 0.013203758246959046\n",
      "x = 1.6, y = 2.246616000518376, y' = -0.1869949317662579\n",
      "x = 1.7, y = 2.2179221494631216, y' = -0.38656987130928644\n",
      "x = 1.8, y = 2.169318817340415, y' = -0.5848464256224232\n",
      "x = 1.9, y = 2.1009698709798825, y' = -0.7811364285638167\n",
      "x = 2.0, y = 2.0131088667571486, y' = -0.9747300582815619\n"
     ]
    }
   ],
   "source": [
    "import numpy as np\n",
    "\n",
    "# Define the differential equations as functions\n",
    "def f1(y, z):\n",
    "    return z\n",
    "\n",
    "def f2(y, z):\n",
    "    return -np.sqrt(y) - 0.5\n",
    "\n",
    "# Implement the second-order Runge-Kutta method (Midpoint Method)\n",
    "def runge_kutta_2nd_order(f1, f2, y0, z0, x0, x_end, h):\n",
    "    n = int((x_end - x0) / h)\n",
    "    # Initialize arrays to store the solutions\n",
    "    x = np.linspace(x0, x_end, n+1)\n",
    "    y = np.zeros(n+1)\n",
    "    z = np.zeros(n+1)\n",
    "    y[0] = y0\n",
    "    z[0] = z0\n",
    "\n",
    "    # Apply the Runge-Kutta method\n",
    "    for i in range(n):\n",
    "        k1y = h * f1(y[i], z[i])\n",
    "        k1z = h * f2(y[i], z[i])\n",
    "\n",
    "        k2y = h * f1(y[i] + 0.5 * k1y, z[i] + 0.5 * k1z)\n",
    "        k2z = h * f2(y[i] + 0.5 * k1y, z[i] + 0.5 * k1z)\n",
    "\n",
    "        y[i+1] = y[i] + k2y\n",
    "        z[i+1] = z[i] + k2z\n",
    "\n",
    "    return x, y, z\n",
    "\n",
    "# Given initial conditions and step size\n",
    "y0 = 2\n",
    "z0 = 1\n",
    "x0 = 1\n",
    "x_end = 2\n",
    "h = 0.1\n",
    "\n",
    "# Solve the differential equation\n",
    "x_vals, y_vals, z_vals = runge_kutta_2nd_order(f1, f2, y0, z0, x0, x_end, h)\n",
    "\n",
    "# Print the results\n",
    "for x, y, z in zip(x_vals, y_vals, z_vals):\n",
    "    print(f\"x = {x:.1f}, y = {y}, y' = {z}\")\n"
   ],
   "metadata": {
    "collapsed": false,
    "ExecuteTime": {
     "end_time": "2023-11-16T17:46:06.411549Z",
     "start_time": "2023-11-16T17:46:06.297102Z"
    }
   },
   "id": "d30b32f259cfe126"
  },
  {
   "cell_type": "code",
   "execution_count": null,
   "outputs": [],
   "source": [],
   "metadata": {
    "collapsed": false
   },
   "id": "8b859dab6fc13dd4"
  }
 ],
 "metadata": {
  "kernelspec": {
   "display_name": "Python 3",
   "language": "python",
   "name": "python3"
  },
  "language_info": {
   "codemirror_mode": {
    "name": "ipython",
    "version": 2
   },
   "file_extension": ".py",
   "mimetype": "text/x-python",
   "name": "python",
   "nbconvert_exporter": "python",
   "pygments_lexer": "ipython2",
   "version": "2.7.6"
  }
 },
 "nbformat": 4,
 "nbformat_minor": 5
}
