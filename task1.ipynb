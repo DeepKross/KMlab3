{
 "cells": [
  {
   "cell_type": "code",
   "execution_count": 10,
   "outputs": [
    {
     "name": "stdout",
     "output_type": "stream",
     "text": [
      "x = 1.0, y = 2.00000\n",
      "x = 1.1, y = 2.55613\n",
      "x = 1.2, y = 3.24068\n",
      "x = 1.3, y = 4.08184\n",
      "x = 1.4, y = 5.11409\n",
      "x = 1.5, y = 6.37957\n",
      "x = 1.6, y = 7.92975\n",
      "x = 1.7, y = 9.82751\n",
      "x = 1.8, y = 12.14969\n",
      "x = 1.9, y = 14.99013\n",
      "x = 2.0, y = 18.46345\n"
     ]
    }
   ],
   "source": [
    "import numpy as np\n",
    "\n",
    "# Define the differential equation y' = f(x, y)\n",
    "def f(x, y):\n",
    "    return 2*y + np.sqrt(x)\n",
    "\n",
    "# Implementing the 4th order Runge-Kutta method\n",
    "def runge_kutta_4th(f, x0, y0, h, n):\n",
    "    # Initialize arrays to store x and y values\n",
    "    x = np.zeros(n+1)\n",
    "    y = np.zeros(n+1)\n",
    "    \n",
    "    # Set initial conditions\n",
    "    x[0] = x0\n",
    "    y[0] = y0\n",
    "    \n",
    "    # Apply Runge-Kutta method\n",
    "    for i in range(n):\n",
    "        k1 = h * f(x[i], y[i])\n",
    "        k2 = h * f(x[i] + 0.5*h, y[i] + 0.5*k1)\n",
    "        k3 = h * f(x[i] + 0.5*h, y[i] + 0.5*k2)\n",
    "        k4 = h * f(x[i] + h, y[i] + k3)\n",
    "        \n",
    "        y[i+1] = y[i] + (k1 + 2*k2 + 2*k3 + k4) / 6\n",
    "        x[i+1] = x[i] + h\n",
    "        \n",
    "    return x, y\n",
    "\n",
    "# Given initial conditions\n",
    "x0 = 1\n",
    "y0 = 2\n",
    "h = 0.1\n",
    "\n",
    "# Number of points (taking steps until x=2)\n",
    "n = int((2 - x0) / h)\n",
    "\n",
    "# Calculate the values using Runge-Kutta method\n",
    "x_values, y_values = runge_kutta_4th(f, x0, y0, h, n)\n",
    "\n",
    "# Print the results\n",
    "for x, y in zip(x_values, y_values):\n",
    "    print(f\"x = {x:.1f}, y = {y:.5f}\")\n"
   ],
   "metadata": {
    "collapsed": false,
    "ExecuteTime": {
     "end_time": "2023-11-16T17:02:11.110482Z",
     "start_time": "2023-11-16T17:02:11.083960Z"
    }
   },
   "id": "c339a237fa1d99c8"
  },
  {
   "cell_type": "code",
   "execution_count": 14,
   "outputs": [
    {
     "name": "stdout",
     "output_type": "stream",
     "text": [
      "x = 1.0, y = 2.00000\n",
      "x = 1.1, y = 2.55613\n",
      "x = 1.2, y = 3.24068\n",
      "x = 1.3, y = 4.08184\n",
      "x = 1.4, y = 5.11367\n",
      "x = 1.5, y = 6.37845\n",
      "x = 1.6, y = 7.92769\n",
      "x = 1.7, y = 9.82417\n",
      "x = 1.8, y = 12.14458\n",
      "x = 1.9, y = 14.98263\n",
      "x = 2.0, y = 18.45276\n"
     ]
    }
   ],
   "source": [
    "# Define the function to compute the derivatives using the differential equation\n",
    "def compute_derivatives(f, x_values, y_values, h):\n",
    "    derivatives = [f(x, y) for x, y in zip(x_values, y_values)]\n",
    "    return derivatives\n",
    "\n",
    "# Initialize the Adams method using the first few values from Runge-Kutta\n",
    "def adams_bashforth(f, x_rk, y_rk, h, n):\n",
    "    # Initialize arrays to store x and y values\n",
    "    x_ab = np.zeros(n+1)\n",
    "    y_ab = np.zeros(n+1)\n",
    "    \n",
    "    # Set initial conditions from Runge-Kutta\n",
    "    x_ab[:4] = x_rk[:4]\n",
    "    y_ab[:4] = y_rk[:4]\n",
    "    \n",
    "    # Compute the first few derivatives\n",
    "    derivatives = compute_derivatives(f, x_rk[:4], y_rk[:4], h)\n",
    "    \n",
    "    # Apply Adams-Bashforth method for 4th order\n",
    "    for i in range(3, n):\n",
    "        y_ab[i+1] = y_ab[i] + (h/24) * (55*derivatives[i] - 59*derivatives[i-1] + 37*derivatives[i-2] - 9*derivatives[i-3])\n",
    "        x_ab[i+1] = x_ab[i] + h\n",
    "        # Compute the new derivative and append to the list\n",
    "        derivatives.append(f(x_ab[i+1], y_ab[i+1]))\n",
    "        \n",
    "    return x_ab, y_ab\n",
    "\n",
    "# We will use the results from Runge-Kutta as the initial values for Adams\n",
    "x_rk = x_values[:4]\n",
    "y_rk = y_values[:4]\n",
    "\n",
    "n_adams = n  # We subtract the number of points used for Runge-Kutta initialization\n",
    "\n",
    "# Calculate the values using Adams-Bashforth method\n",
    "x_values_adams, y_values_adams = adams_bashforth(f, x_rk, y_rk, h, n_adams)\n",
    "\n",
    "# Print the results from Adams method\n",
    "for x, y in zip(x_values_adams, y_values_adams):\n",
    "    print(f\"x = {x:.1f}, y = {y:.5f}\")\n"
   ],
   "metadata": {
    "collapsed": false,
    "ExecuteTime": {
     "end_time": "2023-11-16T17:12:32.222844Z",
     "start_time": "2023-11-16T17:12:32.216128Z"
    }
   },
   "id": "cef61636e2bf83d6"
  },
  {
   "cell_type": "code",
   "execution_count": null,
   "outputs": [],
   "source": [],
   "metadata": {
    "collapsed": false
   },
   "id": "81fe8f2a87c473c2"
  }
 ],
 "metadata": {
  "kernelspec": {
   "display_name": "Python 3",
   "language": "python",
   "name": "python3"
  },
  "language_info": {
   "codemirror_mode": {
    "name": "ipython",
    "version": 2
   },
   "file_extension": ".py",
   "mimetype": "text/x-python",
   "name": "python",
   "nbconvert_exporter": "python",
   "pygments_lexer": "ipython2",
   "version": "2.7.6"
  }
 },
 "nbformat": 4,
 "nbformat_minor": 5
}
